{
 "cells": [
  {
   "cell_type": "code",
   "execution_count": 1,
   "metadata": {
    "id": "YtuJGluvQsfb",
    "outputId": "ef810989-2ec4-4aeb-b9e0-ef67afd823d3"
   },
   "outputs": [],
   "source": [
    "import importlib\n",
    "from ipykernel import get_connection_file\n",
    "from IPython.display import clear_output\n",
    "import json\n",
    "import logging\n",
    "import numpy as np\n",
    "from matplotlib import pyplot as plt\n",
    "import os\n",
    "import pandas as pd\n",
    "import torch\n",
    "import torch.nn as nn\n",
    "import scipy.io\n",
    "import seaborn as sns\n",
    "import sklearn.metrics\n",
    "from sklearn.manifold import TSNE\n",
    "import sys\n",
    "\n",
    "from base_functions import get_local_folder\n",
    "\n",
    "current = get_local_folder()\n",
    "parent = os.path.dirname(current)\n",
    "sys.path.append(parent)\n",
    "sys.path.append(os.path.join(parent, \"models\"))\n",
    "\n",
    "from data.dataset import EyeDataset"
   ]
  },
  {
   "cell_type": "code",
   "execution_count": 2,
   "metadata": {},
   "outputs": [],
   "source": [
    "os.environ['KMP_DUPLICATE_LIB_OK'] = 'True'"
   ]
  },
  {
   "cell_type": "code",
   "execution_count": 3,
   "metadata": {},
   "outputs": [],
   "source": [
    "model_architecture = \"protoeyetcn\"\n",
    "# \"eyecnn\", \"eyetcn\", \"protoeyetcn\"\n",
    "\n",
    "# Load modules and params\n",
    "module = importlib.import_module(f'models.model.{model_architecture}')\n",
    "Model = module.Model\n",
    "params = importlib.import_module(f'models.model.params.{model_architecture}_params')\n",
    "\n",
    "model_params = params.model_params\n",
    "data_params = params.data_params\n",
    "log_params = params.log_params\n",
    "train_params = params.train_params"
   ]
  },
  {
   "cell_type": "code",
   "execution_count": 4,
   "metadata": {},
   "outputs": [
    {
     "name": "stdout",
     "output_type": "stream",
     "text": [
      "2025-01-31 10:47:36,391 - __main__ - INFO - Evaluating model protoeyetcn\n"
     ]
    }
   ],
   "source": [
    "log_fmt = '%(asctime)s - %(name)s - %(levelname)s - %(message)s'\n",
    "logging.basicConfig(stream=sys.stdout, level=logging.DEBUG, format=log_fmt)\n",
    "\n",
    "logger = logging.getLogger(__name__)\n",
    "logger.info(f'Evaluating model {model_architecture}')"
   ]
  },
  {
   "cell_type": "code",
   "execution_count": 5,
   "metadata": {
    "id": "lQxTCum7Qsfg",
    "outputId": "7fce3fb9-2ad4-4076-db53-7ed108fb251d"
   },
   "outputs": [],
   "source": [
    "# Create loss function\n",
    "if model_params.criterion == 'BCE':\n",
    "    criterion = nn.BCELoss()\n",
    "elif model_params.criterion == 'BCE_with_logits':\n",
    "    criterion = nn.BCEWithLogitsLoss()\n",
    "elif model_params.criterion == 'CE':\n",
    "    criterion = nn.CrossEntropyLoss()\n",
    "else:\n",
    "    logger.info(f\"ERROR: Unsupported loss function: {model_params.criterion}\")\n",
    "    sys.exit()\n",
    "\n",
    "regularizer = None"
   ]
  },
  {
   "cell_type": "code",
   "execution_count": 6,
   "metadata": {},
   "outputs": [
    {
     "name": "stdout",
     "output_type": "stream",
     "text": [
      "2025-01-31 10:47:39,013 - __main__ - INFO - \n",
      "\n",
      "2025-01-31 10:47:39,014 - __main__ - INFO - Model architecture:\n",
      "2025-01-31 10:47:39,015 - __main__ - INFO - Encoder(\n",
      "  (tcn): TCN(\n",
      "    (downsample_skip_connection): ModuleList(\n",
      "      (0-2): 3 x None\n",
      "    )\n",
      "    (activation_skip_out): ReLU()\n",
      "    (network): ModuleList(\n",
      "      (0): TemporalBlock(\n",
      "        (conv1): TemporalConv1d(2, 32, kernel_size=(3,), stride=(1,), padding=(1,))\n",
      "        (conv2): TemporalConv1d(32, 32, kernel_size=(3,), stride=(1,), padding=(1,))\n",
      "        (norm1): BatchNorm1d(32, eps=1e-05, momentum=0.1, affine=True, track_running_stats=True)\n",
      "        (norm2): BatchNorm1d(32, eps=1e-05, momentum=0.1, affine=True, track_running_stats=True)\n",
      "        (activation1): ReLU()\n",
      "        (activation2): ReLU()\n",
      "        (activation_final): ReLU()\n",
      "        (dropout1): Dropout(p=0.2, inplace=False)\n",
      "        (dropout2): Dropout(p=0.2, inplace=False)\n",
      "        (downsample): Conv1d(2, 32, kernel_size=(1,), stride=(1,))\n",
      "      )\n",
      "      (1): TemporalBlock(\n",
      "        (conv1): TemporalConv1d(32, 32, kernel_size=(3,), stride=(1,), padding=(2,), dilation=(2,))\n",
      "        (conv2): TemporalConv1d(32, 32, kernel_size=(3,), stride=(1,), padding=(4,), dilation=(4,))\n",
      "        (norm1): BatchNorm1d(32, eps=1e-05, momentum=0.1, affine=True, track_running_stats=True)\n",
      "        (norm2): BatchNorm1d(32, eps=1e-05, momentum=0.1, affine=True, track_running_stats=True)\n",
      "        (activation1): ReLU()\n",
      "        (activation2): ReLU()\n",
      "        (activation_final): ReLU()\n",
      "        (dropout1): Dropout(p=0.2, inplace=False)\n",
      "        (dropout2): Dropout(p=0.2, inplace=False)\n",
      "      )\n",
      "      (2): TemporalBlock(\n",
      "        (conv1): TemporalConv1d(32, 32, kernel_size=(3,), stride=(1,), padding=(8,), dilation=(8,))\n",
      "        (conv2): TemporalConv1d(32, 32, kernel_size=(3,), stride=(1,), padding=(12,), dilation=(12,))\n",
      "        (norm1): BatchNorm1d(32, eps=1e-05, momentum=0.1, affine=True, track_running_stats=True)\n",
      "        (norm2): BatchNorm1d(32, eps=1e-05, momentum=0.1, affine=True, track_running_stats=True)\n",
      "        (activation1): ReLU()\n",
      "        (activation2): ReLU()\n",
      "        (activation_final): ReLU()\n",
      "        (dropout1): Dropout(p=0.2, inplace=False)\n",
      "        (dropout2): Dropout(p=0.2, inplace=False)\n",
      "      )\n",
      "    )\n",
      "  )\n",
      ")\n",
      "2025-01-31 10:47:39,016 - __main__ - INFO - PrototypeLayer()\n",
      "2025-01-31 10:47:39,017 - __main__ - INFO - Decoder(\n",
      "  (last_linear): Linear(in_features=10, out_features=2, bias=False)\n",
      ")\n",
      "2025-01-31 10:47:39,017 - __main__ - INFO - \n",
      "\n",
      "2025-01-31 10:47:39,019 - __main__ - INFO - Total number of model parameters: 16564\n",
      "2025-01-31 10:47:39,020 - __main__ - INFO - Number of trainable model parameters: 16564\n",
      "2025-01-31 10:47:39,021 - __main__ - INFO - \n",
      "\n"
     ]
    }
   ],
   "source": [
    "# Instantiate and initiate the model\n",
    "if 'proto' in model_architecture:\n",
    "    stage = -1\n",
    "    model = Model(train_params.device, model_params, criterion, regularizer, stage, logger)\n",
    "else:\n",
    "    model = Model(train_params.device, model_params, criterion, regularizer, logger) \n",
    "    \n",
    "logger.info(\"\\n\")\n",
    "logger.info(\"Model architecture:\")\n",
    "logger.info(model.encoder)\n",
    "if 'proto' in model_architecture:\n",
    "    logger.info(model.prototype_layer)\n",
    "logger.info(model.decoder)\n",
    "logger.info(\"\\n\")\n",
    "\n",
    "total_params, trainable_params = model.get_parameter_count()\n",
    "logger.info(f\"Total number of model parameters: {total_params}\")\n",
    "logger.info(f\"Number of trainable model parameters: {trainable_params}\")\n",
    "logger.info(\"\\n\")"
   ]
  },
  {
   "cell_type": "code",
   "execution_count": 7,
   "metadata": {},
   "outputs": [
    {
     "name": "stdout",
     "output_type": "stream",
     "text": [
      "2025-01-31 10:48:05,334 - __main__ - INFO - Loading model from ../results/Benfatto/6s_segments/protoeyetcn/single_train_test_split/stages_2_3_4/checkpoint_200.pt\n"
     ]
    }
   ],
   "source": [
    "checkpoint_path = f\"../results/Benfatto/6s_segments/{model_architecture}/single_train_test_split/\"\n",
    "\n",
    "if 'proto' in model_architecture:\n",
    "    checkpoint_path = checkpoint_path + 'stages_2_3_4/'\n",
    "    checkpoint_name = \"checkpoint_200.pt\"\n",
    "    model.load_model(os.path.join(checkpoint_path, checkpoint_name), Model)\n",
    "else:\n",
    "    checkpoint_name = \"checkpoint_100.pt\"\n",
    "    model.load_model(os.path.join(checkpoint_path, checkpoint_name))"
   ]
  },
  {
   "cell_type": "code",
   "execution_count": 8,
   "metadata": {},
   "outputs": [
    {
     "name": "stdout",
     "output_type": "stream",
     "text": [
      "2025-01-31 10:48:07,089 - __main__ - INFO - Found 1 GPUs.\n",
      "2025-01-31 10:48:07,090 - __main__ - INFO - Let's use 1 GPUs!\n"
     ]
    }
   ],
   "source": [
    "# Use CUDA if available\n",
    "set_spawn_method = False  # For multiprocessing on GPU training - True when using multiple GPUs\n",
    "if set_spawn_method:\n",
    "    torch.multiprocessing.set_start_method('spawn', force=True)\n",
    "num_GPU = torch.cuda.device_count()  # Get number of GPUs\n",
    "logger.info(f\"Found {num_GPU} GPUs.\")\n",
    "logger.info(f\"Let's use {num_GPU} GPUs!\")\n",
    "batch_size = num_GPU * model_params.batch_size_GPU"
   ]
  },
  {
   "cell_type": "code",
   "execution_count": 9,
   "metadata": {},
   "outputs": [],
   "source": [
    "# Load the data\n",
    "trainDataset = EyeDataset(data_params, model_params.criterion, 'train')\n",
    "validDataset = EyeDataset(data_params, model_params.criterion, 'valid')\n",
    "testDataset = EyeDataset(data_params, model_params.criterion, 'test')\n",
    "\n",
    "# Create data loaders\n",
    "trainLoader = torch.utils.data.DataLoader(dataset=trainDataset, shuffle=True, drop_last=False, batch_size=batch_size, num_workers=data_params.num_workers)\n",
    "validLoader = torch.utils.data.DataLoader(dataset=validDataset, shuffle=False, drop_last=False, batch_size=batch_size, num_workers=data_params.num_workers)\n",
    "testLoader = torch.utils.data.DataLoader(dataset=testDataset, shuffle=False, drop_last=False, batch_size=batch_size, num_workers=data_params.num_workers)"
   ]
  },
  {
   "cell_type": "code",
   "execution_count": 10,
   "metadata": {
    "id": "D71YhVRcQsfi"
   },
   "outputs": [],
   "source": [
    "evaluation_split = \"Test\"\n",
    "# \"Train\", \"Validation\", \"Test\"\n",
    "\n",
    "if evaluation_split == \"Train\":\n",
    "    data_loader = trainLoader\n",
    "elif evaluation_split == \"Validation\":\n",
    "    data_loader = validLoader\n",
    "elif evaluation_split == \"Test\":\n",
    "    data_loader = testLoader\n",
    "\n",
    "inputs, labels = zip(*[batch for batch in data_loader])\n",
    "inputs = torch.cat(inputs, dim=0).to(train_params.device)\n",
    "labels = torch.cat(labels, dim=0).to(train_params.device)"
   ]
  },
  {
   "cell_type": "code",
   "execution_count": 11,
   "metadata": {},
   "outputs": [],
   "source": [
    "# Get predictions of all train sequences\n",
    "model.eval()\n",
    "with torch.no_grad():\n",
    "    if 'proto' in model_architecture:\n",
    "        predictions, proto_loss = model.forward(inputs, labels)\n",
    "    else:\n",
    "        predictions = model.forward(inputs, labels)\n",
    "if model_params.criterion == 'BCE_with_logits':\n",
    "    probabilities = nn.functional.sigmoid(predictions)\n",
    "elif model_params.criterion == 'CE':\n",
    "    probabilities = nn.functional.softmax(predictions, dim=1)\n",
    "if model_params.criterion == 'BCE':\n",
    "    predictions = (predictions[:,0] > 0.5) * 1.0\n",
    "elif model_params.criterion == 'BCE_with_logits':\n",
    "    predictions = (predictions[:,0] > 0.0) * 1.0\n",
    "elif model_params.criterion == 'CE':\n",
    "    predictions = torch.argmax(predictions, dim=-1)\n",
    "targets = labels.squeeze(-1)\n",
    "matches = (torch.eq(predictions, targets) * 1.0).detach().cpu().numpy().astype(int)"
   ]
  },
  {
   "cell_type": "code",
   "execution_count": 13,
   "metadata": {},
   "outputs": [
    {
     "name": "stdout",
     "output_type": "stream",
     "text": [
      "2025-01-31 10:51:41,275 - matplotlib.colorbar - DEBUG - locator: <matplotlib.ticker.AutoLocator object at 0x000001963C00DE90>\n"
     ]
    },
    {
     "data": {
      "image/png": "[encoded data removed]",
      "text/plain": [
       "<Figure size 640x480 with 2 Axes>"
      ]
     },
     "metadata": {},
     "output_type": "display_data"
    }
   ],
   "source": [
    "# Plot confusion matrix\n",
    "class_labels = [0, 1]\n",
    "class_names = [\"Healthy\", \"Dyslexia\"]\n",
    "\n",
    "y_true = targets.detach().cpu().numpy().astype(int)\n",
    "y_pred = predictions.detach().cpu().numpy().astype(int)\n",
    "sklearn_labels = [class_names[target] for target in y_true]\n",
    "\n",
    "confusion_matrix = sklearn.metrics.confusion_matrix(y_true, y_pred)\n",
    "\n",
    "clear_output(wait=True)\n",
    "\n",
    "ax = sns.heatmap(confusion_matrix/np.sum(confusion_matrix), xticklabels=['Healthy', 'Dyslexia'], yticklabels=['Healthy', 'Dyslexia'], annot=True, fmt='.2%', square=True, cmap='Blues')\n",
    "ax.set_xlabel('Predicted')\n",
    "ax.set_ylabel('Actual')\n",
    "ax.set_title(model_architecture)\n",
    "plt.savefig(checkpoint_path + evaluation_split + \"_set_confusion_matrix.png\", dpi=600)"
   ]
  },
  {
   "cell_type": "code",
   "execution_count": 14,
   "metadata": {},
   "outputs": [
    {
     "name": "stdout",
     "output_type": "stream",
     "text": [
      "protoeyetcn classifier accuracy: 0.84\n",
      "protoeyetcn classifier brier score: 0.12307392669967591\n",
      "protoeyetcn classifier auc score: 0.984\n",
      "protoeyetcn classifier balanced accuracy: 0.8400000000000001\n",
      "protoeyetcn classifier f1 score: 0.8620689655172413\n",
      "protoeyetcn classifier precision: 0.7575757575757576\n",
      "protoeyetcn classifier recall: 1.0\n"
     ]
    }
   ],
   "source": [
    "if model_params.criterion == 'BCE_with_logits':\n",
    "    y_score = probabilities.detach().cpu().numpy()\n",
    "elif model_params.criterion == 'CE':\n",
    "    y_score = probabilities.detach().cpu().numpy()[:,1]\n",
    "\n",
    "acc = sklearn.metrics.accuracy_score(y_true, y_pred)\n",
    "brier = sklearn.metrics.brier_score_loss(y_true, y_score)\n",
    "auc = sklearn.metrics.roc_auc_score(y_true, y_score)\n",
    "balanced_acc = sklearn.metrics.balanced_accuracy_score(y_true, y_pred)\n",
    "f1 = sklearn.metrics.f1_score(y_true, y_pred)\n",
    "precision = sklearn.metrics.precision_score(y_true, y_pred)\n",
    "recall = sklearn.metrics.recall_score(y_true, y_pred)\n",
    "\n",
    "name = model_architecture\n",
    "\n",
    "text_file = open(checkpoint_path + evaluation_split + \"_Result.txt\", \"w\")\n",
    "text_file.write(f'{name} classifier accuracy: {acc}\\n')\n",
    "text_file.write(f'{name} classifier brier score: {brier}\\n')\n",
    "text_file.write(f'{name} classifier auc score: {auc}\\n')\n",
    "text_file.write(f'{name} classifier balanced accuracy: {balanced_acc}\\n')\n",
    "text_file.write(f'{name} classifier f1 score: {f1}\\n')\n",
    "text_file.write(f'{name} classifier precision: {precision}\\n')\n",
    "text_file.write(f'{name} classifier recall: {recall}\\n')\n",
    "text_file.write('\\n')\n",
    "text_file.close()\n",
    "\n",
    "print(f'{name} classifier accuracy: {acc}')\n",
    "print(f'{name} classifier brier score: {brier}')\n",
    "print(f'{name} classifier auc score: {auc}')\n",
    "print(f'{name} classifier balanced accuracy: {balanced_acc}')\n",
    "print(f'{name} classifier f1 score: {f1}')\n",
    "print(f'{name} classifier precision: {precision}')\n",
    "print(f'{name} classifier recall: {recall}')"
   ]
  }
 ],
 "metadata": {
  "colab": {
   "collapsed_sections": [],
   "name": "Visualize_globally_pooled_embeddings_tSNE.ipynb",
   "provenance": []
  },
  "environment": {
   "name": "pytorch-gpu.1-4.m46",
   "type": "gcloud",
   "uri": "gcr.io/deeplearning-platform-release/pytorch-gpu.1-4:m46"
  },
  "kernelspec": {
   "display_name": "Python 3 (ipykernel)",
   "language": "python",
   "name": "python3"
  },
  "language_info": {
   "codemirror_mode": {
    "name": "ipython",
    "version": 3
   },
   "file_extension": ".py",
   "mimetype": "text/x-python",
   "name": "python",
   "nbconvert_exporter": "python",
   "pygments_lexer": "ipython3",
   "version": "3.11.7"
  }
 },
 "nbformat": 4,
 "nbformat_minor": 4
}
