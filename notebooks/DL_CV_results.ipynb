{
 "cells": [
  {
   "cell_type": "code",
   "execution_count": 1,
   "id": "743691ce-85c5-4e6f-bea6-f29a77185060",
   "metadata": {},
   "outputs": [],
   "source": [
    "import json\n",
    "import numpy as np\n",
    "from matplotlib import pyplot as plt\n",
    "import os\n",
    "import seaborn as sns"
   ]
  },
  {
   "cell_type": "code",
   "execution_count": 2,
   "id": "c4c14aa8-c748-466e-8ec9-426164fe2c2f",
   "metadata": {},
   "outputs": [],
   "source": [
    "os.environ['KMP_DUPLICATE_LIB_OK'] = 'True'"
   ]
  },
  {
   "cell_type": "code",
   "execution_count": 29,
   "id": "4bddbbc2-5533-4ea2-9c4c-bae461222a7f",
   "metadata": {},
   "outputs": [],
   "source": [
    "model_architecture = \"protoeyetcn\"\n",
    "checkpoint_dir = f\"../results/Benfatto/6s_segments/{architecture}/cross_validation/\"\n",
    "eval_time = \"full_training\""
   ]
  },
  {
   "cell_type": "code",
   "execution_count": 30,
   "id": "4a62e0eb-6704-4b4f-b87e-0e7c0d4b736b",
   "metadata": {},
   "outputs": [],
   "source": [
    "if eval_time == \"full_training\":\n",
    "    idx = -1\n",
    "else:\n",
    "    idx = -2"
   ]
  },
  {
   "cell_type": "code",
   "execution_count": 31,
   "id": "34753de9-9cff-4da0-b77d-be96b9c7e713",
   "metadata": {},
   "outputs": [],
   "source": [
    "train_accs = []\n",
    "valid_accs = []\n",
    "conf_matrix = []\n",
    "acc, brier, auc, balanced_acc = [], [], [], []\n",
    "f1, precision, recall = [], [], []\n",
    "for i in range(10):\n",
    "    if \"proto\" in model_architecture:\n",
    "        with open(checkpoint_dir + \"fold_\" + str(i+1) + '/stages_2_3_4' + '/checkpoint_logs.json') as f:\n",
    "            logs = json.load(f)\n",
    "    else:\n",
    "        with open(checkpoint_dir + \"fold_\" + str(i+1) + '/checkpoint_logs.json') as f:\n",
    "            logs = json.load(f)\n",
    "    if logs['balanced_acc'][idx] is not None:\n",
    "        train_accs.append(logs['epoch_train_acc'][idx]) \n",
    "        valid_accs.append(logs['epoch_valid_acc'][idx])  \n",
    "        conf_matrix.append(logs['confusion_matrix'][idx])\n",
    "        acc.append(logs['acc'][idx])\n",
    "        brier.append(logs['brier'][idx])\n",
    "        auc.append(logs['auc'][idx])\n",
    "        balanced_acc.append(logs['balanced_acc'][idx])\n",
    "        f1.append(logs['f1'][idx])\n",
    "        precision.append(logs['precision'][idx])\n",
    "        recall.append(logs['recall'][idx])"
   ]
  },
  {
   "cell_type": "code",
   "execution_count": 32,
   "id": "180fe00f-3fca-4925-93fa-6b6aeceeda67",
   "metadata": {},
   "outputs": [],
   "source": [
    "text_file = open(checkpoint_dir + eval_time + \"_Result.txt\", \"w\")\n",
    "text_file.write(f\"Mean validation accuracy: {np.mean(valid_accs)}\\n\")\n",
    "text_file.write(f\"Mean balanced validation accuracy: {np.mean(balanced_acc)}\\n\")\n",
    "text_file.write(f\"Standard deviation of the balanced validation accuracy: {np.std(balanced_acc)}\\n\")\n",
    "text_file.write(f\"Mean validation AUC: {np.mean(auc)}\\n\")\n",
    "text_file.write(f\"Mean validation precision: {np.mean(precision)}\\n\")\n",
    "text_file.write(f\"Mean validation recall: {np.mean(recall)}\\n\")\n",
    "text_file.write(f\"Mean validation F1 score: {np.mean(f1)}\\n\")\n",
    "text_file.write(f\"Mean validation confusion matrix:\\n{np.mean(conf_matrix, axis=0)}\\n\")\n",
    "text_file.write(\"\\n\")\n",
    "text_file.close()\n"
   ]
  },
  {
   "cell_type": "code",
   "execution_count": 33,
   "id": "adcf7fb8-93cc-42d6-8f18-c0dc478133d2",
   "metadata": {},
   "outputs": [
    {
     "name": "stdout",
     "output_type": "stream",
     "text": [
      "Mean validation accuracy: 0.9117710720651896\n",
      "Mean balanced validation accuracy: 0.8613041634174102\n",
      "Standard deviation of the balanced validation accuracy: 0.05920586893349975\n",
      "Mean validation AUC: 0.949598410386093\n",
      "Mean validation precision: 0.8870232741506664\n",
      "Mean validation recall: 0.9881972944216446\n",
      "Mean validation F1 score: 0.9330509214208259\n",
      "Mean validation confusion matrix:\n",
      "[[17.2  6.7]\n",
      " [ 0.6 53.3]]\n"
     ]
    }
   ],
   "source": [
    "print(f\"Mean validation accuracy: {np.mean(valid_accs)}\")\n",
    "print(f\"Mean balanced validation accuracy: {np.mean(balanced_acc)}\")\n",
    "print(f\"Standard deviation of the balanced validation accuracy: {np.std(balanced_acc)}\")\n",
    "print(f\"Mean validation AUC: {np.mean(auc)}\")\n",
    "print(f\"Mean validation precision: {np.mean(precision)}\")\n",
    "print(f\"Mean validation recall: {np.mean(recall)}\")\n",
    "print(f\"Mean validation F1 score: {np.mean(f1)}\")\n",
    "print(\"Mean validation confusion matrix:\")\n",
    "print(np.mean(conf_matrix, axis=0))"
   ]
  },
  {
   "cell_type": "code",
   "execution_count": 34,
   "id": "f53f134a-e333-44c6-9da6-b83ff60e03b1",
   "metadata": {},
   "outputs": [
    {
     "data": {
      "image/png": "[encoded data removed]",
      "text/plain": [
       "<Figure size 640x480 with 2 Axes>"
      ]
     },
     "metadata": {},
     "output_type": "display_data"
    }
   ],
   "source": [
    "name = model_architecture\n",
    "# confusion_matrix = [[tn, fp], [fn, tp]]\n",
    "confusion_matrix = np.mean(conf_matrix, axis=0)\n",
    "ax = sns.heatmap(confusion_matrix/np.sum(confusion_matrix), xticklabels=['Healthy', 'Dyslexia'], yticklabels=['Healthy', 'Dyslexia'], annot=True, fmt='.2%', square=True, cmap='Blues')\n",
    "ax.set_xlabel('Predicted')\n",
    "ax.set_ylabel('Actual')\n",
    "ax.set_title(name)\n",
    "plt.savefig(checkpoint_dir + eval_time + f'_{name}_conf_matrix.png', dpi=600)"
   ]
  }
 ],
 "metadata": {
  "kernelspec": {
   "display_name": "Python 3 (ipykernel)",
   "language": "python",
   "name": "python3"
  },
  "language_info": {
   "codemirror_mode": {
    "name": "ipython",
    "version": 3
   },
   "file_extension": ".py",
   "mimetype": "text/x-python",
   "name": "python",
   "nbconvert_exporter": "python",
   "pygments_lexer": "ipython3",
   "version": "3.11.7"
  }
 },
 "nbformat": 4,
 "nbformat_minor": 5
}
